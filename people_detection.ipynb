{
 "cells": [
  {
   "cell_type": "code",
   "execution_count": null,
   "metadata": {},
   "outputs": [],
   "source": [
    "import sys\n",
    "import os\n",
    "from IPython.display import Video\n",
    "from detect_people import detect_people"
   ]
  },
  {
   "cell_type": "code",
   "execution_count": null,
   "metadata": {},
   "outputs": [],
   "source": [
    "!pip install -r requirments.txt"
   ]
  },
  {
   "cell_type": "code",
   "execution_count": null,
   "metadata": {},
   "outputs": [],
   "source": [
    "detect_people('crowd.mp4')"
   ]
  },
  {
   "cell_type": "markdown",
   "metadata": {},
   "source": [
    "Файл получился очень большим. В ноутбуке он не открывается. Ссылка в readme\n",
    "\n",
    "Что касается качества - получилось очень хорошо. Модель иногда распознавала картину как человека, но самое главное, что все люди были задетекчены. Только в толпе далеко модель не отрисовала никого, но это неудивительно. Во-первых, качество не самое лучшее. Во-вторых, если выделять, то там только всю толпу сразу, потому что они очень кучно стоят и на большом расстоянии.\n",
    "\n",
    "Из улучшений - я исользовал предобученную модель - можно затюнить под конкретно эту задачу. Из неочевидных улучшений - выходной файл получился в 5 раз тяжелее исходника - можно как-то сообразить сжатие."
   ]
  }
 ],
 "metadata": {
  "kernelspec": {
   "display_name": "Python 3",
   "language": "python",
   "name": "python3"
  },
  "language_info": {
   "codemirror_mode": {
    "name": "ipython",
    "version": 3
   },
   "file_extension": ".py",
   "mimetype": "text/x-python",
   "name": "python",
   "nbconvert_exporter": "python",
   "pygments_lexer": "ipython3",
   "version": "3.11.6"
  }
 },
 "nbformat": 4,
 "nbformat_minor": 2
}
